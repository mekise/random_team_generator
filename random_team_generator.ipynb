{
 "cells": [
  {
   "cell_type": "code",
   "execution_count": 1,
   "id": "cc4b9ee0",
   "metadata": {
    "ExecuteTime": {
     "end_time": "2022-03-09T16:24:17.590471Z",
     "start_time": "2022-03-09T16:24:17.428499Z"
    }
   },
   "outputs": [],
   "source": [
    "import numpy as np\n",
    "import numpy.random as rnd"
   ]
  },
  {
   "cell_type": "code",
   "execution_count": 16,
   "id": "b6442987",
   "metadata": {
    "ExecuteTime": {
     "end_time": "2022-03-09T16:26:26.591898Z",
     "start_time": "2022-03-09T16:26:26.572929Z"
    }
   },
   "outputs": [],
   "source": [
    "group_1 = ['xray',\n",
    "           'faded',\n",
    "           'arnoob']\n",
    "\n",
    "group_2 = ['jonny',\n",
    "           'zace',\n",
    "           'josh']\n",
    "\n",
    "group_3 = ['renji',\n",
    "           'mini',\n",
    "           'mineman']\n",
    "\n",
    "group_4 = ['jamesyak',\n",
    "           'angshuman',\n",
    "           'albi']"
   ]
  },
  {
   "cell_type": "code",
   "execution_count": 3,
   "id": "fe5a0104",
   "metadata": {
    "ExecuteTime": {
     "end_time": "2022-03-09T16:24:19.334368Z",
     "start_time": "2022-03-09T16:24:19.313501Z"
    }
   },
   "outputs": [],
   "source": [
    "def matching(group_a, group_b):\n",
    "    count = 0\n",
    "    while np.size(group_a) > 0 and np.size(group_b) > 0:\n",
    "        input()\n",
    "        random_a = rnd.choice(group_a)\n",
    "        random_b = rnd.choice(group_b)\n",
    "        print(\"Team {}:\\n\\t\\t{}\\n\\t\\t{}\\n\".format(count, random_a, random_b))\n",
    "        group_a.remove(random_a)\n",
    "        group_b.remove(random_b)\n",
    "        count += 1\n",
    "    if np.size(group_a) != 0:\n",
    "        print(\"The remaining player is:\\n\\n\\t\\t{}\".format(group_a[0]))\n",
    "    elif np.size(group_b) != 0:\n",
    "        print(\"The remaining player is:\\n\\n\\t\\t{}\".format(group_b[0]))"
   ]
  },
  {
   "cell_type": "code",
   "execution_count": 4,
   "id": "5158e5a4",
   "metadata": {
    "ExecuteTime": {
     "end_time": "2022-03-09T16:24:32.910000Z",
     "start_time": "2022-03-09T16:24:19.987503Z"
    }
   },
   "outputs": [
    {
     "name": "stdout",
     "output_type": "stream",
     "text": [
      "\n",
      "Team 0:\n",
      "\t\tarnoob\n",
      "\t\tjamesyak\n",
      "\n",
      "\n",
      "Team 1:\n",
      "\t\tfaded\n",
      "\t\tangshuman\n",
      "\n",
      "\n",
      "Team 2:\n",
      "\t\txray\n",
      "\t\talbi\n",
      "\n"
     ]
    }
   ],
   "source": [
    "matching(group_1, group_4)"
   ]
  },
  {
   "cell_type": "code",
   "execution_count": 17,
   "id": "26acaf99",
   "metadata": {
    "ExecuteTime": {
     "end_time": "2022-03-09T16:26:30.181711Z",
     "start_time": "2022-03-09T16:26:29.131534Z"
    }
   },
   "outputs": [
    {
     "name": "stdout",
     "output_type": "stream",
     "text": [
      "\n",
      "Team 0:\n",
      "\t\tjosh\n",
      "\t\tmini\n",
      "\n",
      "\n",
      "Team 1:\n",
      "\t\tjonny\n",
      "\t\trenji\n",
      "\n",
      "\n",
      "Team 2:\n",
      "\t\tzace\n",
      "\t\tmineman\n",
      "\n"
     ]
    }
   ],
   "source": [
    "matching(group_2, group_3)"
   ]
  }
 ],
 "metadata": {
  "kernelspec": {
   "display_name": "Python 3",
   "language": "python",
   "name": "python3"
  },
  "language_info": {
   "codemirror_mode": {
    "name": "ipython",
    "version": 3
   },
   "file_extension": ".py",
   "mimetype": "text/x-python",
   "name": "python",
   "nbconvert_exporter": "python",
   "pygments_lexer": "ipython3",
   "version": "3.8.3"
  },
  "latex_envs": {
   "LaTeX_envs_menu_present": true,
   "autoclose": false,
   "autocomplete": true,
   "bibliofile": "biblio.bib",
   "cite_by": "apalike",
   "current_citInitial": 1,
   "eqLabelWithNumbers": true,
   "eqNumInitial": 1,
   "hotkeys": {
    "equation": "Ctrl-E",
    "itemize": "Ctrl-I"
   },
   "labels_anchors": false,
   "latex_user_defs": false,
   "report_style_numbering": false,
   "user_envs_cfg": false
  },
  "varInspector": {
   "cols": {
    "lenName": 16,
    "lenType": 16,
    "lenVar": 40
   },
   "kernels_config": {
    "python": {
     "delete_cmd_postfix": "",
     "delete_cmd_prefix": "del ",
     "library": "var_list.py",
     "varRefreshCmd": "print(var_dic_list())"
    },
    "r": {
     "delete_cmd_postfix": ") ",
     "delete_cmd_prefix": "rm(",
     "library": "var_list.r",
     "varRefreshCmd": "cat(var_dic_list()) "
    }
   },
   "types_to_exclude": [
    "module",
    "function",
    "builtin_function_or_method",
    "instance",
    "_Feature"
   ],
   "window_display": false
  }
 },
 "nbformat": 4,
 "nbformat_minor": 5
}
